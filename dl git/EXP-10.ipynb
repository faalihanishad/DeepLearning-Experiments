{
  "nbformat": 4,
  "nbformat_minor": 0,
  "metadata": {
    "colab": {
      "provenance": []
    },
    "kernelspec": {
      "name": "python3",
      "display_name": "Python 3"
    },
    "language_info": {
      "name": "python"
    }
  },
  "cells": [
    {
      "cell_type": "code",
      "execution_count": 1,
      "metadata": {
        "colab": {
          "base_uri": "https://localhost:8080/"
        },
        "id": "7dFyr8PezoH6",
        "outputId": "4d833f2f-56f9-4db5-c227-defd099c4cd8"
      },
      "outputs": [
        {
          "output_type": "stream",
          "name": "stdout",
          "text": [
            "Epoch 1/10\n",
            "\u001b[1m1/1\u001b[0m \u001b[32m━━━━━━━━━━━━━━━━━━━━\u001b[0m\u001b[37m\u001b[0m \u001b[1m4s\u001b[0m 4s/step - accuracy: 0.0290 - loss: 3.1471\n",
            "Epoch 2/10\n",
            "\u001b[1m1/1\u001b[0m \u001b[32m━━━━━━━━━━━━━━━━━━━━\u001b[0m\u001b[37m\u001b[0m \u001b[1m0s\u001b[0m 183ms/step - accuracy: 0.4493 - loss: 2.8680\n",
            "Epoch 3/10\n",
            "\u001b[1m1/1\u001b[0m \u001b[32m━━━━━━━━━━━━━━━━━━━━\u001b[0m\u001b[37m\u001b[0m \u001b[1m0s\u001b[0m 185ms/step - accuracy: 0.4348 - loss: 2.6263\n",
            "Epoch 4/10\n",
            "\u001b[1m1/1\u001b[0m \u001b[32m━━━━━━━━━━━━━━━━━━━━\u001b[0m\u001b[37m\u001b[0m \u001b[1m0s\u001b[0m 187ms/step - accuracy: 0.4348 - loss: 2.3962\n",
            "Epoch 5/10\n",
            "\u001b[1m1/1\u001b[0m \u001b[32m━━━━━━━━━━━━━━━━━━━━\u001b[0m\u001b[37m\u001b[0m \u001b[1m0s\u001b[0m 209ms/step - accuracy: 0.4493 - loss: 2.1581\n",
            "Epoch 6/10\n",
            "\u001b[1m1/1\u001b[0m \u001b[32m━━━━━━━━━━━━━━━━━━━━\u001b[0m\u001b[37m\u001b[0m \u001b[1m0s\u001b[0m 197ms/step - accuracy: 0.4638 - loss: 1.9302\n",
            "Epoch 7/10\n",
            "\u001b[1m1/1\u001b[0m \u001b[32m━━━━━━━━━━━━━━━━━━━━\u001b[0m\u001b[37m\u001b[0m \u001b[1m0s\u001b[0m 203ms/step - accuracy: 0.4783 - loss: 1.7948\n",
            "Epoch 8/10\n",
            "\u001b[1m1/1\u001b[0m \u001b[32m━━━━━━━━━━━━━━━━━━━━\u001b[0m\u001b[37m\u001b[0m \u001b[1m0s\u001b[0m 244ms/step - accuracy: 0.5072 - loss: 1.7160\n",
            "Epoch 9/10\n",
            "\u001b[1m1/1\u001b[0m \u001b[32m━━━━━━━━━━━━━━━━━━━━\u001b[0m\u001b[37m\u001b[0m \u001b[1m0s\u001b[0m 122ms/step - accuracy: 0.5217 - loss: 1.6527\n",
            "Epoch 10/10\n",
            "\u001b[1m1/1\u001b[0m \u001b[32m━━━━━━━━━━━━━━━━━━━━\u001b[0m\u001b[37m\u001b[0m \u001b[1m0s\u001b[0m 117ms/step - accuracy: 0.5362 - loss: 1.5961\n"
          ]
        },
        {
          "output_type": "stream",
          "name": "stderr",
          "text": [
            "WARNING:absl:You are saving your model as an HDF5 file via `model.save()` or `keras.saving.save_model(model)`. This file format is considered legacy. We recommend using instead the native Keras format, e.g. `model.save('my_model.keras')` or `keras.saving.save_model(model, 'my_model.keras')`. \n"
          ]
        }
      ],
      "source": [
        "import numpy as np\n",
        "import pandas as pd\n",
        "from tensorflow.keras.models import Model\n",
        "from tensorflow.keras.layers import Input, LSTM, Dense\n",
        "\n",
        "english_sentences = [\"Hello\", \"How are you?\", \"Translate this sentence\"]\n",
        "hindi_sentences = [\"नमस्ते\", \"तुम कैसे हो?\", \"इस वाक्य का अनुवाद करें\"]\n",
        "\n",
        "english_tokenizer = {char: idx + 1 for idx, char in enumerate(set(' '.join(english_sentences)))}\n",
        "hindi_tokenizer = {char: idx + 1 for idx, char in enumerate(set(' '.join(hindi_sentences)))}\n",
        "\n",
        "\n",
        "max_english_sequence_length = max(len(sentence) for sentence in english_sentences)\n",
        "max_hindi_sequence_length = max(len(sentence) for sentence in hindi_sentences)\n",
        "\n",
        "\n",
        "def sentences_to_sequences(sentences, tokenizer, max_sequence_length):\n",
        "    sequences = np.zeros((len(sentences), max_sequence_length))\n",
        "    for i, sentence in enumerate(sentences):\n",
        "        for j, char in enumerate(sentence):\n",
        "            sequences[i, j] = tokenizer[char]\n",
        "    return sequences\n",
        "\n",
        "\n",
        "X_train = sentences_to_sequences(english_sentences, english_tokenizer, max_english_sequence_length)\n",
        "y_train = sentences_to_sequences(hindi_sentences, hindi_tokenizer, max_hindi_sequence_length)\n",
        "\n",
        "X_train = X_train.reshape((len(english_sentences), max_english_sequence_length, 1))\n",
        "y_train = y_train.reshape((len(hindi_sentences), max_hindi_sequence_length, 1))\n",
        "\n",
        "\n",
        "latent_dim = 256\n",
        "\n",
        "\n",
        "encoder_inputs = Input(shape=(max_english_sequence_length, 1))\n",
        "encoder_lstm = LSTM(latent_dim, return_state=True)\n",
        "encoder_outputs, state_h, state_c = encoder_lstm(encoder_inputs)\n",
        "encoder_states = [state_h, state_c]\n",
        "\n",
        "\n",
        "decoder_inputs = Input(shape=(max_hindi_sequence_length, 1))\n",
        "decoder_lstm = LSTM(latent_dim, return_sequences=True, return_state=True)\n",
        "decoder_outputs, _, _ = decoder_lstm(decoder_inputs, initial_state=encoder_states)\n",
        "decoder_dense = Dense(len(hindi_tokenizer) + 1, activation='softmax')\n",
        "decoder_outputs = decoder_dense(decoder_outputs)\n",
        "\n",
        "model = Model([encoder_inputs, decoder_inputs], decoder_outputs)\n",
        "\n",
        "\n",
        "model.compile(optimizer='adam', loss='categorical_crossentropy', metrics=['accuracy'])\n",
        "\n",
        "from tensorflow.keras.utils import to_categorical\n",
        "y_train_one_hot = to_categorical(y_train, num_classes=len(hindi_tokenizer) + 1)\n",
        "\n",
        "\n",
        "model.fit([X_train, y_train], y_train_one_hot, epochs=10, batch_size=64)\n",
        "\n",
        "model.save('translation_model.h5')\n"
      ]
    }
  ]
}